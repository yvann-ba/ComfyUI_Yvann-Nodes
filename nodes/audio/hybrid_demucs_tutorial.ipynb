{
 "cells": [
  {
   "cell_type": "markdown",
   "metadata": {},
   "source": [
    "\n",
    "# Music Source Separation with Hybrid Demucs\n",
    "\n",
    "**Author**: [Sean Kim](https://github.com/skim0514)_\n",
    "\n",
    "This tutorial shows how to use the Hybrid Demucs model in order to\n",
    "perform music separation\n"
   ]
  },
  {
   "cell_type": "markdown",
   "metadata": {},
   "source": [
    "## 1. Overview\n",
    "\n",
    "Performing music separation is composed of the following steps\n",
    "\n",
    "1. Build the Hybrid Demucs pipeline.\n",
    "2. Format the waveform into chunks of expected sizes and loop through\n",
    "   chunks (with overlap) and feed into pipeline.\n",
    "3. Collect output chunks and combine according to the way they have been\n",
    "   overlapped.\n",
    "\n",
    "The Hybrid Demucs [[Défossez, 2021](https://arxiv.org/abs/2111.03600)_]\n",
    "model is a developed version of the\n",
    "[Demucs](https://github.com/facebookresearch/demucs)_ model, a\n",
    "waveform based model which separates music into its\n",
    "respective sources, such as vocals, bass, and drums.\n",
    "Hybrid Demucs effectively uses spectrogram to learn\n",
    "through the frequency domain and also moves to time convolutions.\n",
    "\n",
    "\n"
   ]
  },
  {
   "cell_type": "markdown",
   "metadata": {},
   "source": [
    "## 2. Preparation\n",
    "\n",
    "First, we install the necessary dependencies. The first requirement is\n",
    "``torchaudio`` and ``torch``\n",
    "\n",
    "\n"
   ]
  },
  {
   "cell_type": "code",
   "execution_count": 6,
   "metadata": {
    "collapsed": false
   },
   "outputs": [
    {
     "name": "stdout",
     "output_type": "stream",
     "text": [
      "Looking in indexes: https://pypi.org/simple, https://pypi.ngc.nvidia.com\n",
      "Collecting mir_eval\n",
      "  Downloading mir_eval-0.7.tar.gz (90 kB)\n",
      "  Preparing metadata (setup.py): started\n",
      "  Preparing metadata (setup.py): finished with status 'done'\n",
      "Requirement already satisfied: numpy>=1.7.0 in c:\\users\\yvann\\miniconda3\\lib\\site-packages (from mir_eval) (1.26.4)\n",
      "Requirement already satisfied: scipy>=1.0.0 in c:\\users\\yvann\\miniconda3\\lib\\site-packages (from mir_eval) (1.14.1)\n",
      "Requirement already satisfied: future in c:\\users\\yvann\\miniconda3\\lib\\site-packages (from mir_eval) (1.0.0)\n",
      "Requirement already satisfied: six in c:\\users\\yvann\\miniconda3\\lib\\site-packages (from mir_eval) (1.16.0)\n",
      "Building wheels for collected packages: mir_eval\n",
      "  Building wheel for mir_eval (setup.py): started\n",
      "  Building wheel for mir_eval (setup.py): finished with status 'done'\n",
      "  Created wheel for mir_eval: filename=mir_eval-0.7-py3-none-any.whl size=100716 sha256=199247166caa4170c27ec8a8e6c43b6f7e34640bb9ffecfef14ee83d1641ac9c\n",
      "  Stored in directory: C:\\Users\\yvann\\AppData\\Local\\Temp\\pip-ephem-wheel-cache-meym2ibr\\wheels\\7a\\37\\52\\2a4c9f90d1b3414709ae2fe4627b3c13894f8922d3aade1f9e\n",
      "Successfully built mir_eval\n",
      "Installing collected packages: mir_eval\n",
      "Successfully installed mir_eval-0.7\n",
      "Note: you may need to restart the kernel to use updated packages.\n",
      "2.5.0+cpu\n",
      "2.5.0+cpu\n"
     ]
    },
    {
     "name": "stderr",
     "output_type": "stream",
     "text": [
      "\n",
      "[notice] A new release of pip is available: 24.2 -> 24.3.1\n",
      "[notice] To update, run: python.exe -m pip install --upgrade pip\n"
     ]
    }
   ],
   "source": [
    "%pip install mir_eval\t\n",
    "import torch\n",
    "import torchaudio\n",
    "\n",
    "print(torch.__version__)\n",
    "print(torchaudio.__version__)\n",
    "\n",
    "import matplotlib.pyplot as plt"
   ]
  },
  {
   "cell_type": "markdown",
   "metadata": {},
   "source": [
    "In addition to ``torchaudio``, ``mir_eval`` is required to perform\n",
    "signal-to-distortion ratio (SDR) calculations. To install ``mir_eval``\n",
    "please use ``pip3 install mir_eval``.\n",
    "\n",
    "\n"
   ]
  },
  {
   "cell_type": "code",
   "execution_count": 7,
   "metadata": {
    "collapsed": false
   },
   "outputs": [],
   "source": [
    "from IPython.display import Audio\n",
    "from mir_eval import separation\n",
    "from torchaudio.pipelines import HDEMUCS_HIGH_MUSDB_PLUS\n",
    "from torchaudio.utils import download_asset"
   ]
  },
  {
   "cell_type": "markdown",
   "metadata": {},
   "source": [
    "## 3. Construct the pipeline\n",
    "\n",
    "Pre-trained model weights and related pipeline components are bundled as\n",
    ":py:func:`torchaudio.pipelines.HDEMUCS_HIGH_MUSDB_PLUS`. This is a\n",
    ":py:class:`torchaudio.models.HDemucs` model trained on\n",
    "[MUSDB18-HQ](https://zenodo.org/record/3338373)_ and additional\n",
    "internal extra training data.\n",
    "This specific model is suited for higher sample rates, around 44.1 kHZ\n",
    "and has a nfft value of 4096 with a depth of 6 in the model implementation.\n",
    "\n"
   ]
  },
  {
   "cell_type": "code",
   "execution_count": 8,
   "metadata": {
    "collapsed": false
   },
   "outputs": [
    {
     "name": "stderr",
     "output_type": "stream",
     "text": [
      "c:\\Users\\yvann\\miniconda3\\Lib\\site-packages\\torchaudio\\pipelines\\_source_separation_pipeline.py:56: FutureWarning: You are using `torch.load` with `weights_only=False` (the current default value), which uses the default pickle module implicitly. It is possible to construct malicious pickle data which will execute arbitrary code during unpickling (See https://github.com/pytorch/pytorch/blob/main/SECURITY.md#untrusted-models for more details). In a future release, the default value for `weights_only` will be flipped to `True`. This limits the functions that could be executed during unpickling. Arbitrary objects will no longer be allowed to be loaded via this mode unless they are explicitly allowlisted by the user via `torch.serialization.add_safe_globals`. We recommend you start setting `weights_only=True` for any use case where you don't have full control of the loaded file. Please open an issue on GitHub for any issues related to this experimental feature.\n",
      "  state_dict = torch.load(path)\n"
     ]
    },
    {
     "name": "stdout",
     "output_type": "stream",
     "text": [
      "Sample rate: 44100\n"
     ]
    }
   ],
   "source": [
    "bundle = HDEMUCS_HIGH_MUSDB_PLUS\n",
    "\n",
    "model = bundle.get_model()\n",
    "\n",
    "device = torch.device(\"cuda:0\" if torch.cuda.is_available() else \"cpu\")\n",
    "\n",
    "model.to(device)\n",
    "\n",
    "sample_rate = bundle.sample_rate\n",
    "\n",
    "print(f\"Sample rate: {sample_rate}\")"
   ]
  },
  {
   "cell_type": "markdown",
   "metadata": {},
   "source": [
    "## 4. Configure the application function\n",
    "\n",
    "Because ``HDemucs`` is a large and memory-consuming model it is\n",
    "very difficult to have sufficient memory to apply the model to\n",
    "an entire song at once. To work around this limitation,\n",
    "obtain the separated sources of a full song by\n",
    "chunking the song into smaller segments and run through the\n",
    "model piece by piece, and then rearrange back together.\n",
    "\n",
    "When doing this, it is important to ensure some\n",
    "overlap between each of the chunks, to accommodate for artifacts at the\n",
    "edges. Due to the nature of the model, sometimes the edges have\n",
    "inaccurate or undesired sounds included.\n",
    "\n",
    "We provide a sample implementation of chunking and arrangement below. This\n",
    "implementation takes an overlap of 1 second on each side, and then does\n",
    "a linear fade in and fade out on each side. Using the faded overlaps, I\n",
    "add these segments together, to ensure a constant volume throughout.\n",
    "This accommodates for the artifacts by using less of the edges of the\n",
    "model outputs.\n",
    "\n",
    "<img src=\"https://download.pytorch.org/torchaudio/tutorial-assets/HDemucs_Drawing.jpg\">\n",
    "\n"
   ]
  },
  {
   "cell_type": "code",
   "execution_count": 10,
   "metadata": {
    "collapsed": false
   },
   "outputs": [],
   "source": [
    "from torchaudio.transforms import Fade\n",
    "\n",
    "\n",
    "def separate_sources(\n",
    "    model,\n",
    "    mix,\n",
    "    segment=10.0,\n",
    "    overlap=0.1,\n",
    "    device=None,\n",
    "):\n",
    "    \"\"\"\n",
    "    Apply model to a given mixture. Use fade, and add segments together in order to add model segment by segment.\n",
    "\n",
    "    Args:\n",
    "        segment (int): segment length in seconds\n",
    "        device (torch.device, str, or None): if provided, device on which to\n",
    "            execute the computation, otherwise `mix.device` is assumed.\n",
    "            When `device` is different from `mix.device`, only local computations will\n",
    "            be on `device`, while the entire tracks will be stored on `mix.device`.\n",
    "    \"\"\"\n",
    "    if device is None:\n",
    "        device = mix.device\n",
    "    else:\n",
    "        device = torch.device(device)\n",
    "\n",
    "    batch, channels, length = mix.shape\n",
    "\n",
    "    chunk_len = int(sample_rate * segment * (1 + overlap))\n",
    "    start = 0\n",
    "    end = chunk_len\n",
    "    overlap_frames = overlap * sample_rate\n",
    "    fade = Fade(fade_in_len=0, fade_out_len=int(overlap_frames), fade_shape=\"linear\")\n",
    "\n",
    "    final = torch.zeros(batch, len(model.sources), channels, length, device=device)\n",
    "\n",
    "    while start < length - overlap_frames:\n",
    "        chunk = mix[:, :, start:end]\n",
    "        with torch.no_grad():\n",
    "            out = model.forward(chunk)\n",
    "        out = fade(out)\n",
    "        final[:, :, :, start:end] += out\n",
    "        if start == 0:\n",
    "            fade.fade_in_len = int(overlap_frames)\n",
    "            start += int(chunk_len - overlap_frames)\n",
    "        else:\n",
    "            start += chunk_len\n",
    "        end += chunk_len\n",
    "        if end >= length:\n",
    "            fade.fade_out_len = 0\n",
    "    return final\n",
    "\n",
    "\n",
    "def plot_spectrogram(stft, title=\"Spectrogram\"):\n",
    "    magnitude = stft.abs()\n",
    "    spectrogram = 20 * torch.log10(magnitude + 1e-8).numpy()\n",
    "    _, axis = plt.subplots(1, 1)\n",
    "    axis.imshow(spectrogram, cmap=\"viridis\", vmin=-60, vmax=0, origin=\"lower\", aspect=\"auto\")\n",
    "    axis.set_title(title)\n",
    "    plt.tight_layout()"
   ]
  },
  {
   "cell_type": "markdown",
   "metadata": {},
   "source": [
    "## 5. Run Model\n",
    "\n",
    "Finally, we run the model and store the separate source files in a\n",
    "directory\n",
    "\n",
    "As a test song, we will be using A Classic Education by NightOwl from\n",
    "MedleyDB (Creative Commons BY-NC-SA 4.0). This is also located in\n",
    "[MUSDB18-HQ](https://zenodo.org/record/3338373)_ dataset within\n",
    "the ``train`` sources.\n",
    "\n",
    "In order to test with a different song, the variable names and urls\n",
    "below can be changed alongside with the parameters to test the song\n",
    "separator in different ways.\n",
    "\n",
    "\n"
   ]
  },
  {
   "cell_type": "code",
   "execution_count": 22,
   "metadata": {
    "collapsed": false
   },
   "outputs": [
    {
     "ename": "RuntimeError",
     "evalue": "Couldn't find appropriate backend to handle uri C:\\Users\\yvann\\Downloads\\song.wav and format None.",
     "output_type": "error",
     "traceback": [
      "\u001b[1;31m---------------------------------------------------------------------------\u001b[0m",
      "\u001b[1;31mRuntimeError\u001b[0m                              Traceback (most recent call last)",
      "Cell \u001b[1;32mIn[22], line 3\u001b[0m\n\u001b[0;32m      1\u001b[0m \u001b[38;5;66;03m# We download the audio file from our storage. Feel free to download another file and use audio from a specific path\u001b[39;00m\n\u001b[0;32m      2\u001b[0m SAMPLE_SONG \u001b[38;5;241m=\u001b[39m download_asset(\u001b[38;5;124mr\u001b[39m\u001b[38;5;124m\"\u001b[39m\u001b[38;5;124mC:\u001b[39m\u001b[38;5;124m\\\u001b[39m\u001b[38;5;124mUsers\u001b[39m\u001b[38;5;124m\\\u001b[39m\u001b[38;5;124myvann\u001b[39m\u001b[38;5;124m\\\u001b[39m\u001b[38;5;124mDownloads\u001b[39m\u001b[38;5;124m\\\u001b[39m\u001b[38;5;124msong.wav\u001b[39m\u001b[38;5;124m\"\u001b[39m)\n\u001b[1;32m----> 3\u001b[0m waveform, sample_rate \u001b[38;5;241m=\u001b[39m torchaudio\u001b[38;5;241m.\u001b[39mload(SAMPLE_SONG)  \u001b[38;5;66;03m# replace SAMPLE_SONG with desired path for different song\u001b[39;00m\n\u001b[0;32m      4\u001b[0m waveform \u001b[38;5;241m=\u001b[39m waveform\u001b[38;5;241m.\u001b[39mto(device)\n\u001b[0;32m      5\u001b[0m mixture \u001b[38;5;241m=\u001b[39m waveform\n",
      "File \u001b[1;32mc:\\Users\\yvann\\miniconda3\\Lib\\site-packages\\torchaudio\\_backend\\utils.py:204\u001b[0m, in \u001b[0;36mget_load_func.<locals>.load\u001b[1;34m(uri, frame_offset, num_frames, normalize, channels_first, format, buffer_size, backend)\u001b[0m\n\u001b[0;32m    118\u001b[0m \u001b[38;5;28;01mdef\u001b[39;00m \u001b[38;5;21mload\u001b[39m(\n\u001b[0;32m    119\u001b[0m     uri: Union[BinaryIO, \u001b[38;5;28mstr\u001b[39m, os\u001b[38;5;241m.\u001b[39mPathLike],\n\u001b[0;32m    120\u001b[0m     frame_offset: \u001b[38;5;28mint\u001b[39m \u001b[38;5;241m=\u001b[39m \u001b[38;5;241m0\u001b[39m,\n\u001b[1;32m   (...)\u001b[0m\n\u001b[0;32m    126\u001b[0m     backend: Optional[\u001b[38;5;28mstr\u001b[39m] \u001b[38;5;241m=\u001b[39m \u001b[38;5;28;01mNone\u001b[39;00m,\n\u001b[0;32m    127\u001b[0m ) \u001b[38;5;241m-\u001b[39m\u001b[38;5;241m>\u001b[39m Tuple[torch\u001b[38;5;241m.\u001b[39mTensor, \u001b[38;5;28mint\u001b[39m]:\n\u001b[0;32m    128\u001b[0m \u001b[38;5;250m    \u001b[39m\u001b[38;5;124;03m\"\"\"Load audio data from source.\u001b[39;00m\n\u001b[0;32m    129\u001b[0m \n\u001b[0;32m    130\u001b[0m \u001b[38;5;124;03m    By default (``normalize=True``, ``channels_first=True``), this function returns Tensor with\u001b[39;00m\n\u001b[1;32m   (...)\u001b[0m\n\u001b[0;32m    202\u001b[0m \u001b[38;5;124;03m            `[channel, time]` else `[time, channel]`.\u001b[39;00m\n\u001b[0;32m    203\u001b[0m \u001b[38;5;124;03m    \"\"\"\u001b[39;00m\n\u001b[1;32m--> 204\u001b[0m     backend \u001b[38;5;241m=\u001b[39m dispatcher(uri, \u001b[38;5;28mformat\u001b[39m, backend)\n\u001b[0;32m    205\u001b[0m     \u001b[38;5;28;01mreturn\u001b[39;00m backend\u001b[38;5;241m.\u001b[39mload(uri, frame_offset, num_frames, normalize, channels_first, \u001b[38;5;28mformat\u001b[39m, buffer_size)\n",
      "File \u001b[1;32mc:\\Users\\yvann\\miniconda3\\Lib\\site-packages\\torchaudio\\_backend\\utils.py:116\u001b[0m, in \u001b[0;36mget_load_func.<locals>.dispatcher\u001b[1;34m(uri, format, backend_name)\u001b[0m\n\u001b[0;32m    114\u001b[0m     \u001b[38;5;28;01mif\u001b[39;00m backend\u001b[38;5;241m.\u001b[39mcan_decode(uri, \u001b[38;5;28mformat\u001b[39m):\n\u001b[0;32m    115\u001b[0m         \u001b[38;5;28;01mreturn\u001b[39;00m backend\n\u001b[1;32m--> 116\u001b[0m \u001b[38;5;28;01mraise\u001b[39;00m \u001b[38;5;167;01mRuntimeError\u001b[39;00m(\u001b[38;5;124mf\u001b[39m\u001b[38;5;124m\"\u001b[39m\u001b[38;5;124mCouldn\u001b[39m\u001b[38;5;124m'\u001b[39m\u001b[38;5;124mt find appropriate backend to handle uri \u001b[39m\u001b[38;5;132;01m{\u001b[39;00muri\u001b[38;5;132;01m}\u001b[39;00m\u001b[38;5;124m and format \u001b[39m\u001b[38;5;132;01m{\u001b[39;00m\u001b[38;5;28mformat\u001b[39m\u001b[38;5;132;01m}\u001b[39;00m\u001b[38;5;124m.\u001b[39m\u001b[38;5;124m\"\u001b[39m)\n",
      "\u001b[1;31mRuntimeError\u001b[0m: Couldn't find appropriate backend to handle uri C:\\Users\\yvann\\Downloads\\song.wav and format None."
     ]
    }
   ],
   "source": [
    "# We download the audio file from our storage. Feel free to download another file and use audio from a specific path\n",
    "SAMPLE_SONG = download_asset(r\"C:\\Users\\yvann\\Downloads\\song.wav\")\n",
    "waveform, sample_rate = torchaudio.load(SAMPLE_SONG)  # replace SAMPLE_SONG with desired path for different song\n",
    "waveform = waveform.to(device)\n",
    "mixture = waveform\n",
    "\n",
    "# parameters\n",
    "segment: int = 10\n",
    "overlap = 0.1\n",
    "\n",
    "print(\"Separating track\")\n",
    "\n",
    "ref = waveform.mean(0)\n",
    "waveform = (waveform - ref.mean()) / ref.std()  # normalization\n",
    "\n",
    "sources = separate_sources(\n",
    "    model,\n",
    "    waveform[None],\n",
    "    device=device,\n",
    "    segment=segment,\n",
    "    overlap=overlap,\n",
    ")[0]\n",
    "sources = sources * ref.std() + ref.mean()\n",
    "\n",
    "sources_list = model.sources\n",
    "sources = list(sources)\n",
    "\n",
    "audios = dict(zip(sources_list, sources))"
   ]
  },
  {
   "cell_type": "markdown",
   "metadata": {},
   "source": [
    "### 5.1 Separate Track\n",
    "\n",
    "The default set of pretrained weights that has been loaded has 4 sources\n",
    "that it is separated into: drums, bass, other, and vocals in that order.\n",
    "They have been stored into the dict “audios” and therefore can be\n",
    "accessed there. For the four sources, there is a separate cell for each,\n",
    "that will create the audio, the spectrogram graph, and also calculate\n",
    "the SDR score. SDR is the signal-to-distortion\n",
    "ratio, essentially a representation to the “quality” of an audio track.\n",
    "\n",
    "\n"
   ]
  },
  {
   "cell_type": "code",
   "execution_count": null,
   "metadata": {
    "collapsed": false
   },
   "outputs": [],
   "source": [
    "N_FFT = 4096\n",
    "N_HOP = 4\n",
    "stft = torchaudio.transforms.Spectrogram(\n",
    "    n_fft=N_FFT,\n",
    "    hop_length=N_HOP,\n",
    "    power=None,\n",
    ")"
   ]
  },
  {
   "cell_type": "markdown",
   "metadata": {},
   "source": [
    "### 5.2 Audio Segmenting and Processing\n",
    "\n",
    "Below is the processing steps and segmenting 5 seconds of the tracks in\n",
    "order to feed into the spectrogram and to caclulate the respective SDR\n",
    "scores.\n",
    "\n",
    "\n"
   ]
  },
  {
   "cell_type": "code",
   "execution_count": null,
   "metadata": {
    "collapsed": false
   },
   "outputs": [],
   "source": [
    "def output_results(original_source: torch.Tensor, predicted_source: torch.Tensor, source: str):\n",
    "    print(\n",
    "        \"SDR score is:\",\n",
    "        separation.bss_eval_sources(original_source.detach().numpy(), predicted_source.detach().numpy())[0].mean(),\n",
    "    )\n",
    "    plot_spectrogram(stft(predicted_source)[0], f\"Spectrogram - {source}\")\n",
    "    return Audio(predicted_source, rate=sample_rate)\n",
    "\n",
    "\n",
    "segment_start = 150\n",
    "segment_end = 155\n",
    "\n",
    "frame_start = segment_start * sample_rate\n",
    "frame_end = segment_end * sample_rate\n",
    "\n",
    "drums_original = download_asset(\"tutorial-assets/hdemucs_drums_segment.wav\")\n",
    "bass_original = download_asset(\"tutorial-assets/hdemucs_bass_segment.wav\")\n",
    "vocals_original = download_asset(\"tutorial-assets/hdemucs_vocals_segment.wav\")\n",
    "other_original = download_asset(\"tutorial-assets/hdemucs_other_segment.wav\")\n",
    "\n",
    "drums_spec = audios[\"drums\"][:, frame_start:frame_end].cpu()\n",
    "drums, sample_rate = torchaudio.load(drums_original)\n",
    "\n",
    "bass_spec = audios[\"bass\"][:, frame_start:frame_end].cpu()\n",
    "bass, sample_rate = torchaudio.load(bass_original)\n",
    "\n",
    "vocals_spec = audios[\"vocals\"][:, frame_start:frame_end].cpu()\n",
    "vocals, sample_rate = torchaudio.load(vocals_original)\n",
    "\n",
    "other_spec = audios[\"other\"][:, frame_start:frame_end].cpu()\n",
    "other, sample_rate = torchaudio.load(other_original)\n",
    "\n",
    "mix_spec = mixture[:, frame_start:frame_end].cpu()"
   ]
  },
  {
   "cell_type": "markdown",
   "metadata": {},
   "source": [
    "### 5.3 Spectrograms and Audio\n",
    "\n",
    "In the next 5 cells, you can see the spectrograms with the respective\n",
    "audios. The audios can be clearly visualized using the spectrogram.\n",
    "\n",
    "The mixture clip comes from the original track, and the remaining\n",
    "tracks are the model output\n",
    "\n",
    "\n"
   ]
  },
  {
   "cell_type": "code",
   "execution_count": null,
   "metadata": {
    "collapsed": false
   },
   "outputs": [],
   "source": [
    "# Mixture Clip\n",
    "plot_spectrogram(stft(mix_spec)[0], \"Spectrogram - Mixture\")\n",
    "Audio(mix_spec, rate=sample_rate)"
   ]
  },
  {
   "cell_type": "markdown",
   "metadata": {},
   "source": [
    "Drums SDR, Spectrogram, and Audio\n",
    "\n",
    "\n"
   ]
  },
  {
   "cell_type": "code",
   "execution_count": null,
   "metadata": {
    "collapsed": false
   },
   "outputs": [],
   "source": [
    "# Drums Clip\n",
    "output_results(drums, drums_spec, \"drums\")"
   ]
  },
  {
   "cell_type": "markdown",
   "metadata": {},
   "source": [
    "Bass SDR, Spectrogram, and Audio\n",
    "\n",
    "\n"
   ]
  },
  {
   "cell_type": "code",
   "execution_count": null,
   "metadata": {
    "collapsed": false
   },
   "outputs": [],
   "source": [
    "# Bass Clip\n",
    "output_results(bass, bass_spec, \"bass\")"
   ]
  },
  {
   "cell_type": "markdown",
   "metadata": {},
   "source": [
    "Vocals SDR, Spectrogram, and Audio\n",
    "\n",
    "\n"
   ]
  },
  {
   "cell_type": "code",
   "execution_count": null,
   "metadata": {
    "collapsed": false
   },
   "outputs": [],
   "source": [
    "# Vocals Audio\n",
    "output_results(vocals, vocals_spec, \"vocals\")"
   ]
  },
  {
   "cell_type": "markdown",
   "metadata": {},
   "source": [
    "Other SDR, Spectrogram, and Audio\n",
    "\n",
    "\n"
   ]
  },
  {
   "cell_type": "code",
   "execution_count": null,
   "metadata": {
    "collapsed": false
   },
   "outputs": [],
   "source": [
    "# Other Clip\n",
    "output_results(other, other_spec, \"other\")"
   ]
  },
  {
   "cell_type": "code",
   "execution_count": null,
   "metadata": {
    "collapsed": false
   },
   "outputs": [],
   "source": [
    "# Optionally, the full audios can be heard in from running the next 5\n",
    "# cells. They will take a bit longer to load, so to run simply uncomment\n",
    "# out the ``Audio`` cells for the respective track to produce the audio\n",
    "# for the full song.\n",
    "#\n",
    "\n",
    "# Full Audio\n",
    "# Audio(mixture, rate=sample_rate)\n",
    "\n",
    "# Drums Audio\n",
    "# Audio(audios[\"drums\"], rate=sample_rate)\n",
    "\n",
    "# Bass Audio\n",
    "# Audio(audios[\"bass\"], rate=sample_rate)\n",
    "\n",
    "# Vocals Audio\n",
    "# Audio(audios[\"vocals\"], rate=sample_rate)\n",
    "\n",
    "# Other Audio\n",
    "# Audio(audios[\"other\"], rate=sample_rate)"
   ]
  }
 ],
 "metadata": {
  "kernelspec": {
   "display_name": "base",
   "language": "python",
   "name": "python3"
  },
  "language_info": {
   "codemirror_mode": {
    "name": "ipython",
    "version": 3
   },
   "file_extension": ".py",
   "mimetype": "text/x-python",
   "name": "python",
   "nbconvert_exporter": "python",
   "pygments_lexer": "ipython3",
   "version": "3.11.4"
  }
 },
 "nbformat": 4,
 "nbformat_minor": 0
}
